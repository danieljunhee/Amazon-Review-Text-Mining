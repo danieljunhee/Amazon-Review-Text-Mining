{
 "cells": [
  {
   "cell_type": "markdown",
   "metadata": {},
   "source": [
    "# Amazon Review Text Mining\n",
    "### Jun Hee Kim"
   ]
  },
  {
   "cell_type": "markdown",
   "metadata": {},
   "source": [
    "In this task, our goal is to predict the rating score (an integer out of 1, 2, 3, 4, 5) given only the Amazon review text. In other words, we will try to capture the customer's overall satisfaction about the product from the review text that he/she wrote. We will explore diverse types of preprocessing raw text data into a format that can be provided to machine learning models. More specifically, we will try several bag-of-words models to represent the Amazon review text and examine which type of representation of the text yields the best predictive performance.\n",
    "\n",
    "For the data, we will be using the Amazon reviews on movies and TV ranging from May 1996 to July 2014. Here is the dataset source: http://jmcauley.ucsd.edu/data/amazon/. The original dataset contains information about 1697533 reviews."
   ]
  },
  {
   "cell_type": "markdown",
   "metadata": {},
   "source": [
    "## Import Libraries"
   ]
  },
  {
   "cell_type": "markdown",
   "metadata": {},
   "source": [
    "First, we load the libraries that we will use for our work."
   ]
  },
  {
   "cell_type": "code",
   "execution_count": 1,
   "metadata": {
    "collapsed": true
   },
   "outputs": [],
   "source": [
    "import numpy as np\n",
    "from scipy import sparse\n",
    "import pandas as pd\n",
    "import matplotlib.pyplot as plt\n",
    "%matplotlib inline\n",
    "import nltk\n",
    "from nltk.corpus import stopwords\n",
    "import string\n",
    "import re\n",
    "import math\n",
    "from collections import Counter\n",
    "from sklearn.feature_extraction.text import TfidfVectorizer\n",
    "from sklearn.metrics import mean_squared_error, mean_absolute_error\n",
    "from sklearn.naive_bayes import MultinomialNB\n",
    "from sklearn.linear_model import LogisticRegression\n",
    "from sklearn.svm import LinearSVC"
   ]
  },
  {
   "cell_type": "markdown",
   "metadata": {},
   "source": [
    "## Load Dataset"
   ]
  },
  {
   "cell_type": "markdown",
   "metadata": {},
   "source": [
    "Let's load the dataset, which is originally in json format, as a Pandas dataframe. The original dataset contains the following variables:\n",
    "- \"reviewerID\": ID of the reviewer, e.g. A2SUAM1J3GNN3B\n",
    "- \"asin\": ID of the product, e.g. 0000013714\n",
    "- \"reviewerName\": name of the reviewer\n",
    "- \"helpful\": helpfulness rating of the review, e.g. 2/3\n",
    "- \"reviewText\": text of the review\n",
    "- \"overall\": rating of the product\n",
    "- \"summary\": summary of the review\n",
    "- \"unixReviewTime\": time of the review (unix time)\n",
    "- \"reviewTime\": time of the review (raw)\n",
    "\n",
    "Since our goal is to predict the rating score solely from the review text, we only keep these columns: \"overall\" is for the rating score (an integer out of 1, 2, 3, 4, 5) and \"reviewText\" is for the corresponding review text (string)"
   ]
  },
  {
   "cell_type": "code",
   "execution_count": 2,
   "metadata": {
    "collapsed": false
   },
   "outputs": [],
   "source": [
    "##### The following 5 lines of commented code is for loading the dataset from the original file and saving as a pickle file. #####\n",
    "## Load data from original file\n",
    "#reviews_df = pd.read_json('Movies_and_TV_5.json', \\\n",
    "#                             lines=True).drop(['reviewerID','asin','reviewerName','helpful','summary','unixReviewTime','reviewTime'], \\\n",
    "#                                              axis=1)\n",
    "## Save this Pandas dataframe as a pickle file (so that we don't have to load it again later)\n",
    "#reviews_df.to_pickle('reviews_df.pickle')\n",
    "\n",
    "# Load the dataframe that has been already saved as a pickle file\n",
    "reviews_df = pd.read_pickle('reviews_df.pickle')"
   ]
  },
  {
   "cell_type": "markdown",
   "metadata": {},
   "source": [
    "As shown in the following cell, our dataframe has 1697533 datapoints each with 2 variables."
   ]
  },
  {
   "cell_type": "code",
   "execution_count": 3,
   "metadata": {
    "collapsed": false
   },
   "outputs": [
    {
     "data": {
      "text/plain": [
       "(1697533, 2)"
      ]
     },
     "execution_count": 3,
     "metadata": {},
     "output_type": "execute_result"
    }
   ],
   "source": [
    "reviews_df.shape"
   ]
  },
  {
   "cell_type": "markdown",
   "metadata": {},
   "source": [
    "The first five rows of the dataframe looks like:"
   ]
  },
  {
   "cell_type": "code",
   "execution_count": 4,
   "metadata": {
    "collapsed": false
   },
   "outputs": [
    {
     "data": {
      "text/html": [
       "<div>\n",
       "<style>\n",
       "    .dataframe thead tr:only-child th {\n",
       "        text-align: right;\n",
       "    }\n",
       "\n",
       "    .dataframe thead th {\n",
       "        text-align: left;\n",
       "    }\n",
       "\n",
       "    .dataframe tbody tr th {\n",
       "        vertical-align: top;\n",
       "    }\n",
       "</style>\n",
       "<table border=\"1\" class=\"dataframe\">\n",
       "  <thead>\n",
       "    <tr style=\"text-align: right;\">\n",
       "      <th></th>\n",
       "      <th>overall</th>\n",
       "      <th>reviewText</th>\n",
       "    </tr>\n",
       "  </thead>\n",
       "  <tbody>\n",
       "    <tr>\n",
       "      <th>0</th>\n",
       "      <td>4</td>\n",
       "      <td>This is a charming version of the classic Dick...</td>\n",
       "    </tr>\n",
       "    <tr>\n",
       "      <th>1</th>\n",
       "      <td>3</td>\n",
       "      <td>It was good but not as emotionally moving as t...</td>\n",
       "    </tr>\n",
       "    <tr>\n",
       "      <th>2</th>\n",
       "      <td>3</td>\n",
       "      <td>Don't get me wrong, Winkler is a wonderful cha...</td>\n",
       "    </tr>\n",
       "    <tr>\n",
       "      <th>3</th>\n",
       "      <td>5</td>\n",
       "      <td>Henry Winkler is very good in this twist on th...</td>\n",
       "    </tr>\n",
       "    <tr>\n",
       "      <th>4</th>\n",
       "      <td>4</td>\n",
       "      <td>This is one of the best Scrooge movies out.  H...</td>\n",
       "    </tr>\n",
       "  </tbody>\n",
       "</table>\n",
       "</div>"
      ],
      "text/plain": [
       "   overall                                         reviewText\n",
       "0        4  This is a charming version of the classic Dick...\n",
       "1        3  It was good but not as emotionally moving as t...\n",
       "2        3  Don't get me wrong, Winkler is a wonderful cha...\n",
       "3        5  Henry Winkler is very good in this twist on th...\n",
       "4        4  This is one of the best Scrooge movies out.  H..."
      ]
     },
     "execution_count": 4,
     "metadata": {},
     "output_type": "execute_result"
    }
   ],
   "source": [
    "reviews_df.head()"
   ]
  },
  {
   "cell_type": "markdown",
   "metadata": {},
   "source": [
    "## Data Preprocessing"
   ]
  },
  {
   "cell_type": "markdown",
   "metadata": {},
   "source": [
    "In this section, we perform preprocessing on the 'reviewText' feature. Our first step of preprocessing the text is tokenization. After tokenizing, we remove all tokens that include numbers, remove all punctuations across the tokens, and convert the tokens to lowercase."
   ]
  },
  {
   "cell_type": "code",
   "execution_count": 38,
   "metadata": {
    "collapsed": false
   },
   "outputs": [
    {
     "data": {
      "text/plain": [
       "['where', 'is', 'air']"
      ]
     },
     "execution_count": 38,
     "metadata": {},
     "output_type": "execute_result"
    }
   ],
   "source": [
    "def remove_tokens_with_num(tokens):\n",
    "    \"\"\"\n",
    "    'tokens' is a list of tokens.\n",
    "    Returns a list of tokens where only tokens without numbers are maintained\n",
    "    \"\"\"\n",
    "    return [token for token in tokens if not re.search('\\d', token)]\n",
    "remove_tokens_with_num(['where', 'is', '3es', 'air', 'd2oy'])"
   ]
  },
  {
   "cell_type": "code",
   "execution_count": 39,
   "metadata": {
    "collapsed": false
   },
   "outputs": [
    {
     "data": {
      "text/plain": [
       "'I  am a person How are you hey'"
      ]
     },
     "execution_count": 39,
     "metadata": {},
     "output_type": "execute_result"
    }
   ],
   "source": [
    "def remove_punc_in_str(str_):\n",
    "        \"\"\"\n",
    "        'str' is a string.\n",
    "        Returns the string where the punctuations (if any) are removed\n",
    "        \"\"\"\n",
    "        for punctuation in string.punctuation:\n",
    "            str_ = str_.replace(punctuation, \"\")\n",
    "        return str_\n",
    "remove_punc_in_str('I ** am a person! How are you? hey^^')"
   ]
  },
  {
   "cell_type": "code",
   "execution_count": 40,
   "metadata": {
    "collapsed": false
   },
   "outputs": [
    {
     "data": {
      "text/plain": [
       "['where', 'i?s', '3es!', 'a*ir', 'd2oy']"
      ]
     },
     "execution_count": 40,
     "metadata": {},
     "output_type": "execute_result"
    }
   ],
   "source": [
    "def tokens_to_lowercase(tokens):\n",
    "    \"\"\"\n",
    "    'tokens' is a list of tokens.\n",
    "    Returns a list of tokens where all the alphabets are converted to lowercase.\n",
    "    \"\"\"\n",
    "    return [token.lower() for token in tokens]\n",
    "tokens_to_lowercase(['Where', 'i?s', '3eS!', 'a*ir', 'd2oy'])"
   ]
  },
  {
   "cell_type": "code",
   "execution_count": 41,
   "metadata": {
    "collapsed": false
   },
   "outputs": [
    {
     "data": {
      "text/plain": [
       "['Where', 'i?s', '3eS!', 'a*ir', 'd2oy']"
      ]
     },
     "execution_count": 41,
     "metadata": {},
     "output_type": "execute_result"
    }
   ],
   "source": [
    "def remove_stopwords(tokens, stopwords):\n",
    "    \"\"\"\n",
    "    'tokens' is a list of tokens. 'stopwords' is a set of stopwords (Use a set, not a list, for stopwords to make search faster)\n",
    "    Returns a list of tokens in which all the tokens that are stopwords\n",
    "    \"\"\"\n",
    "    return [token for token in tokens if token not in stopwords]\n",
    "\n",
    "remove_stopwords(['Where', 'i?s', '3eS!', 'a*ir', 'at', 'd2oy'], {\"at\", \"any\"})"
   ]
  },
  {
   "cell_type": "markdown",
   "metadata": {},
   "source": [
    "Using the functions that we made, we preprocess the 'reviewText' feature in our dataframe. For the stop words, we use the stopwords provided by the nltk library."
   ]
  },
  {
   "cell_type": "code",
   "execution_count": 45,
   "metadata": {
    "collapsed": false
   },
   "outputs": [
    {
     "data": {
      "text/plain": [
       "{'a',\n",
       " 'about',\n",
       " 'above',\n",
       " 'after',\n",
       " 'again',\n",
       " 'against',\n",
       " 'ain',\n",
       " 'all',\n",
       " 'am',\n",
       " 'an',\n",
       " 'and',\n",
       " 'any',\n",
       " 'are',\n",
       " 'aren',\n",
       " \"aren't\",\n",
       " 'as',\n",
       " 'at',\n",
       " 'be',\n",
       " 'because',\n",
       " 'been',\n",
       " 'before',\n",
       " 'being',\n",
       " 'below',\n",
       " 'between',\n",
       " 'both',\n",
       " 'but',\n",
       " 'by',\n",
       " 'can',\n",
       " 'couldn',\n",
       " \"couldn't\",\n",
       " 'd',\n",
       " 'did',\n",
       " 'didn',\n",
       " \"didn't\",\n",
       " 'do',\n",
       " 'does',\n",
       " 'doesn',\n",
       " \"doesn't\",\n",
       " 'doing',\n",
       " 'don',\n",
       " \"don't\",\n",
       " 'down',\n",
       " 'during',\n",
       " 'each',\n",
       " 'few',\n",
       " 'for',\n",
       " 'from',\n",
       " 'further',\n",
       " 'had',\n",
       " 'hadn',\n",
       " \"hadn't\",\n",
       " 'has',\n",
       " 'hasn',\n",
       " \"hasn't\",\n",
       " 'have',\n",
       " 'haven',\n",
       " \"haven't\",\n",
       " 'having',\n",
       " 'he',\n",
       " 'her',\n",
       " 'here',\n",
       " 'hers',\n",
       " 'herself',\n",
       " 'him',\n",
       " 'himself',\n",
       " 'his',\n",
       " 'how',\n",
       " 'i',\n",
       " 'if',\n",
       " 'in',\n",
       " 'into',\n",
       " 'is',\n",
       " 'isn',\n",
       " \"isn't\",\n",
       " 'it',\n",
       " \"it's\",\n",
       " 'its',\n",
       " 'itself',\n",
       " 'just',\n",
       " 'll',\n",
       " 'm',\n",
       " 'ma',\n",
       " 'me',\n",
       " 'mightn',\n",
       " \"mightn't\",\n",
       " 'more',\n",
       " 'most',\n",
       " 'mustn',\n",
       " \"mustn't\",\n",
       " 'my',\n",
       " 'myself',\n",
       " 'needn',\n",
       " \"needn't\",\n",
       " 'no',\n",
       " 'nor',\n",
       " 'not',\n",
       " 'now',\n",
       " 'o',\n",
       " 'of',\n",
       " 'off',\n",
       " 'on',\n",
       " 'once',\n",
       " 'only',\n",
       " 'or',\n",
       " 'other',\n",
       " 'our',\n",
       " 'ours',\n",
       " 'ourselves',\n",
       " 'out',\n",
       " 'over',\n",
       " 'own',\n",
       " 're',\n",
       " 's',\n",
       " 'same',\n",
       " 'shan',\n",
       " \"shan't\",\n",
       " 'she',\n",
       " \"she's\",\n",
       " 'should',\n",
       " \"should've\",\n",
       " 'shouldn',\n",
       " \"shouldn't\",\n",
       " 'so',\n",
       " 'some',\n",
       " 'such',\n",
       " 't',\n",
       " 'than',\n",
       " 'that',\n",
       " \"that'll\",\n",
       " 'the',\n",
       " 'their',\n",
       " 'theirs',\n",
       " 'them',\n",
       " 'themselves',\n",
       " 'then',\n",
       " 'there',\n",
       " 'these',\n",
       " 'they',\n",
       " 'this',\n",
       " 'those',\n",
       " 'through',\n",
       " 'to',\n",
       " 'too',\n",
       " 'under',\n",
       " 'until',\n",
       " 'up',\n",
       " 've',\n",
       " 'very',\n",
       " 'was',\n",
       " 'wasn',\n",
       " \"wasn't\",\n",
       " 'we',\n",
       " 'were',\n",
       " 'weren',\n",
       " \"weren't\",\n",
       " 'what',\n",
       " 'when',\n",
       " 'where',\n",
       " 'which',\n",
       " 'while',\n",
       " 'who',\n",
       " 'whom',\n",
       " 'why',\n",
       " 'will',\n",
       " 'with',\n",
       " 'won',\n",
       " \"won't\",\n",
       " 'wouldn',\n",
       " \"wouldn't\",\n",
       " 'y',\n",
       " 'you',\n",
       " \"you'd\",\n",
       " \"you'll\",\n",
       " \"you're\",\n",
       " \"you've\",\n",
       " 'your',\n",
       " 'yours',\n",
       " 'yourself',\n",
       " 'yourselves'}"
      ]
     },
     "execution_count": 45,
     "metadata": {},
     "output_type": "execute_result"
    }
   ],
   "source": [
    "stop_words = set(stopwords.words('english'))\n",
    "stop_words"
   ]
  },
  {
   "cell_type": "code",
   "execution_count": 10,
   "metadata": {
    "collapsed": false
   },
   "outputs": [],
   "source": [
    "reviews_df['reviewText_processed'] = [remove_stopwords(tokens_to_lowercase(remove_tokens_with_num(nltk.word_tokenize(remove_punc_in_str(review)))), \\\n",
    "                                                          stopwords=stop_words) \\\n",
    "                                         for review in reviews_df['reviewText']]"
   ]
  },
  {
   "cell_type": "markdown",
   "metadata": {},
   "source": [
    "The first five rows' preprocessed review text looks like:"
   ]
  },
  {
   "cell_type": "code",
   "execution_count": 11,
   "metadata": {
    "collapsed": false
   },
   "outputs": [
    {
     "data": {
      "text/plain": [
       "0    [charming, version, classic, dickens, tale, he...\n",
       "1    [good, emotionally, moving, christmas, carol, ...\n",
       "2    [dont, get, wrong, winkler, wonderful, charact...\n",
       "3    [henry, winkler, good, twist, classic, story, ...\n",
       "4    [one, best, scrooge, movies, henry, winkler, o...\n",
       "Name: reviewText_processed, dtype: object"
      ]
     },
     "execution_count": 11,
     "metadata": {},
     "output_type": "execute_result"
    }
   ],
   "source": [
    "reviews_df['reviewText_processed'][0:5]"
   ]
  },
  {
   "cell_type": "markdown",
   "metadata": {},
   "source": [
    "Since we are not going to use the original review text anymore, let's delete it from our dataframe."
   ]
  },
  {
   "cell_type": "code",
   "execution_count": 12,
   "metadata": {
    "collapsed": false
   },
   "outputs": [],
   "source": [
    "reviews_df.drop(['reviewText'], axis=1, inplace=True)"
   ]
  },
  {
   "cell_type": "markdown",
   "metadata": {},
   "source": [
    "Now our dataframe's first five rows look like:"
   ]
  },
  {
   "cell_type": "code",
   "execution_count": 13,
   "metadata": {
    "collapsed": false
   },
   "outputs": [
    {
     "data": {
      "text/html": [
       "<div>\n",
       "<style>\n",
       "    .dataframe thead tr:only-child th {\n",
       "        text-align: right;\n",
       "    }\n",
       "\n",
       "    .dataframe thead th {\n",
       "        text-align: left;\n",
       "    }\n",
       "\n",
       "    .dataframe tbody tr th {\n",
       "        vertical-align: top;\n",
       "    }\n",
       "</style>\n",
       "<table border=\"1\" class=\"dataframe\">\n",
       "  <thead>\n",
       "    <tr style=\"text-align: right;\">\n",
       "      <th></th>\n",
       "      <th>overall</th>\n",
       "      <th>reviewText_processed</th>\n",
       "    </tr>\n",
       "  </thead>\n",
       "  <tbody>\n",
       "    <tr>\n",
       "      <th>0</th>\n",
       "      <td>4</td>\n",
       "      <td>[charming, version, classic, dickens, tale, he...</td>\n",
       "    </tr>\n",
       "    <tr>\n",
       "      <th>1</th>\n",
       "      <td>3</td>\n",
       "      <td>[good, emotionally, moving, christmas, carol, ...</td>\n",
       "    </tr>\n",
       "    <tr>\n",
       "      <th>2</th>\n",
       "      <td>3</td>\n",
       "      <td>[dont, get, wrong, winkler, wonderful, charact...</td>\n",
       "    </tr>\n",
       "    <tr>\n",
       "      <th>3</th>\n",
       "      <td>5</td>\n",
       "      <td>[henry, winkler, good, twist, classic, story, ...</td>\n",
       "    </tr>\n",
       "    <tr>\n",
       "      <th>4</th>\n",
       "      <td>4</td>\n",
       "      <td>[one, best, scrooge, movies, henry, winkler, o...</td>\n",
       "    </tr>\n",
       "  </tbody>\n",
       "</table>\n",
       "</div>"
      ],
      "text/plain": [
       "   overall                               reviewText_processed\n",
       "0        4  [charming, version, classic, dickens, tale, he...\n",
       "1        3  [good, emotionally, moving, christmas, carol, ...\n",
       "2        3  [dont, get, wrong, winkler, wonderful, charact...\n",
       "3        5  [henry, winkler, good, twist, classic, story, ...\n",
       "4        4  [one, best, scrooge, movies, henry, winkler, o..."
      ]
     },
     "execution_count": 13,
     "metadata": {},
     "output_type": "execute_result"
    }
   ],
   "source": [
    "## Save this Pandas dataframe as a pickle file (so that we don't have to load it again later)\n",
    "#reviews_df.to_pickle('preprocessed_reviews_df.pickle')\n",
    "\n",
    "# Load the dataframe that has been already saved as a pickle file\n",
    "reviews_df = pd.read_pickle('preprocessed_reviews_df.pickle')\n",
    "reviews_df.head()"
   ]
  },
  {
   "cell_type": "markdown",
   "metadata": {},
   "source": [
    "## Data Splitting"
   ]
  },
  {
   "cell_type": "markdown",
   "metadata": {},
   "source": [
    "Now, let's split the dataset as the training set, validation set, and the test set. We will use 1018519 datapoints for the training set (around 60% of the entire 1697533), 339506 for the validation set (around 20% of the entire 1697533), and the test set will consist of the remaining 339508 datapoints.\n",
    "\n",
    "- All the fitting will be done via the training set.\n",
    "- Hyperparameter tuning and model selection (performance evaluation) will be done via the validation set. (Note: We could instead do k-fold cross validation, but since we have reasonably many datapoints in the validation set and also to reduce computational time, we use the train-validation-test approach)\n",
    "- The final model's accuracy will be evaluated via the test set."
   ]
  },
  {
   "cell_type": "code",
   "execution_count": 14,
   "metadata": {
    "collapsed": true
   },
   "outputs": [],
   "source": [
    "n = reviews_df.shape[0]\n",
    "num_train = 1018519\n",
    "num_valid = 339506\n",
    "np.random.seed(0)\n",
    "indices_permutation = np.random.permutation(n)\n",
    "train_ind = indices_permutation[0:num_train]\n",
    "valid_ind = indices_permutation[num_train:num_train+num_valid]\n",
    "test_ind = indices_permutation[num_train+num_valid:]\n",
    "train_df = reviews_df.iloc[train_ind]\n",
    "valid_df = reviews_df.iloc[valid_ind]\n",
    "test_df = reviews_df.iloc[test_ind]"
   ]
  },
  {
   "cell_type": "code",
   "execution_count": 2,
   "metadata": {
    "collapsed": false
   },
   "outputs": [],
   "source": [
    "# Save these dataframes for future use\n",
    "#train_df.to_pickle('train_df.pickle')\n",
    "#valid_df.to_pickle('valid_df.pickle')\n",
    "#test_df.to_pickle('test_df.pickle')\n",
    "\n",
    "# load the already-saved dataframes\n",
    "train_df = pd.read_pickle('train_df.pickle')\n",
    "valid_df = pd.read_pickle('valid_df.pickle')\n",
    "test_df = pd.read_pickle('test_df.pickle')"
   ]
  },
  {
   "cell_type": "markdown",
   "metadata": {},
   "source": [
    "The number of rows and the number of columns for the three datasets are:"
   ]
  },
  {
   "cell_type": "code",
   "execution_count": 3,
   "metadata": {
    "collapsed": false
   },
   "outputs": [
    {
     "data": {
      "text/plain": [
       "((1018519, 2), (339506, 2), (339508, 2))"
      ]
     },
     "execution_count": 3,
     "metadata": {},
     "output_type": "execute_result"
    }
   ],
   "source": [
    "train_df.shape, valid_df.shape, test_df.shape"
   ]
  },
  {
   "cell_type": "markdown",
   "metadata": {
    "collapsed": true
   },
   "source": [
    "## Training Data - Rating Distribution"
   ]
  },
  {
   "cell_type": "markdown",
   "metadata": {},
   "source": [
    "Let's observe the frequency distribution of the rating scores in our dataset."
   ]
  },
  {
   "cell_type": "code",
   "execution_count": 4,
   "metadata": {
    "collapsed": false
   },
   "outputs": [
    {
     "name": "stdout",
     "output_type": "stream",
     "text": [
      "Ratings Frequency Distribution:  Counter({5: 543793, 4: 229244, 3: 120992, 1: 62876, 2: 61614})\n",
      "Percentage of training instances with 1-star rating: 6.173277081723561 %\n",
      "Percentage of training instances with 2-star rating: 6.0493716857515665 %\n",
      "Percentage of training instances with 3-star rating: 11.879208929828506 %\n",
      "Percentage of training instances with 4-star rating: 22.50758208732483 %\n",
      "Percentage of training instances with 5-star rating: 53.39056021537153 %\n"
     ]
    }
   ],
   "source": [
    "rating_freq_dict = Counter(train_df['overall'])\n",
    "print(\"Ratings Frequency Distribution: \", rating_freq_dict)\n",
    "# and the coresponding percentage\n",
    "num_train_instances = train_df.shape[0]\n",
    "for rate in [1,2,3,4,5]:\n",
    "   print(\"Percentage of training instances with %d-star rating:\" %rate, (rating_freq_dict[rate]/num_train_instances)*100, \"%\")"
   ]
  },
  {
   "cell_type": "code",
   "execution_count": 5,
   "metadata": {
    "collapsed": false
   },
   "outputs": [
    {
     "data": {
      "text/plain": [
       "([<matplotlib.axis.XTick at 0x209b6755b70>,\n",
       "  <matplotlib.axis.XTick at 0x209b6728e48>,\n",
       "  <matplotlib.axis.XTick at 0x209b674a8d0>,\n",
       "  <matplotlib.axis.XTick at 0x209b68a9128>,\n",
       "  <matplotlib.axis.XTick at 0x209b68a9b38>],\n",
       " <a list of 5 Text xticklabel objects>)"
      ]
     },
     "execution_count": 5,
     "metadata": {},
     "output_type": "execute_result"
    },
    {
     "data": {
      "image/png": "[encoded data removed]",
      "text/plain": [
       "<matplotlib.figure.Figure at 0x209b6724fd0>"
      ]
     },
     "metadata": {},
     "output_type": "display_data"
    }
   ],
   "source": [
    "plt.bar([1,2,3,4,5], [rating_freq_dict[rate] for rate in [1,2,3,4,5]], width=0.5)\n",
    "plt.xlabel(\"Rating\")\n",
    "plt.ylabel(\"Frequency\")\n",
    "plt.xticks([1.25,2.25,3.25,4.25,5.25], [1,2,3,4,5])"
   ]
  },
  {
   "cell_type": "markdown",
   "metadata": {},
   "source": [
    "Since the ratings 4 and 5 are much more frequent compared to the other ratings, let's downsample those labels. Let's (randomly) maintain just the 30% of the 5-star ratings (maintain 163137 observations and remove 380656 observations), and also let's (randomly) maintain just the 60% of the 4-star ratings (maintain 137546 observations and remove 91698 observations)."
   ]
  },
  {
   "cell_type": "code",
   "execution_count": 6,
   "metadata": {
    "collapsed": false
   },
   "outputs": [],
   "source": [
    "# 5-star ratings\n",
    "rating5_rows = train_df.index[train_df['overall']==5].tolist()\n",
    "np.random.seed(0)\n",
    "rating5_rows_perm = np.random.permutation(rating5_rows)\n",
    "rows_to_delete = rating5_rows_perm[0:380656]\n",
    "train_df.drop(rows_to_delete, inplace=True)\n",
    "# 4-star ratings\n",
    "rating4_rows = train_df.index[train_df['overall']==4].tolist()\n",
    "np.random.seed(0)\n",
    "rating4_rows_perm = np.random.permutation(rating4_rows)\n",
    "rows_to_delete = rating4_rows_perm[0:91698]\n",
    "train_df.drop(rows_to_delete, inplace=True)"
   ]
  },
  {
   "cell_type": "code",
   "execution_count": 7,
   "metadata": {
    "collapsed": true
   },
   "outputs": [],
   "source": [
    "# Save the dataframe for future use\n",
    "#train_df.to_pickle('train_balanced_df.pickle')\n",
    "\n",
    "# Load the already-saved dataframe\n",
    "train_df = pd.read_pickle('train_balanced_df.pickle')"
   ]
  },
  {
   "cell_type": "markdown",
   "metadata": {
    "collapsed": false
   },
   "source": [
    "Now, the distribution of the ratings in the training set looks more balanced compared to the original training set (as shown below)."
   ]
  },
  {
   "cell_type": "code",
   "execution_count": 8,
   "metadata": {
    "collapsed": false
   },
   "outputs": [
    {
     "data": {
      "text/plain": [
       "([<matplotlib.axis.XTick at 0x20931af5710>,\n",
       "  <matplotlib.axis.XTick at 0x20931af2be0>,\n",
       "  <matplotlib.axis.XTick at 0x20931af5908>,\n",
       "  <matplotlib.axis.XTick at 0x20931a9b390>,\n",
       "  <matplotlib.axis.XTick at 0x20931a9bda0>],\n",
       " <a list of 5 Text xticklabel objects>)"
      ]
     },
     "execution_count": 8,
     "metadata": {},
     "output_type": "execute_result"
    },
    {
     "data": {
      "image/png": "[encoded data removed]",
      "text/plain": [
       "<matplotlib.figure.Figure at 0x20931b0e8d0>"
      ]
     },
     "metadata": {},
     "output_type": "display_data"
    }
   ],
   "source": [
    "rating_freq_dict = Counter(train_df['overall'])\n",
    "plt.bar([1,2,3,4,5], [rating_freq_dict[rate] for rate in [1,2,3,4,5]], width=0.5)\n",
    "plt.xlabel(\"Rating\")\n",
    "plt.ylabel(\"Frequency\")\n",
    "plt.xticks([1.25,2.25,3.25,4.25,5.25], [1,2,3,4,5])"
   ]
  },
  {
   "cell_type": "markdown",
   "metadata": {},
   "source": [
    "The number of rows and the number of columns for the training set are now:"
   ]
  },
  {
   "cell_type": "code",
   "execution_count": 9,
   "metadata": {
    "collapsed": false
   },
   "outputs": [
    {
     "data": {
      "text/plain": [
       "(546165, 2)"
      ]
     },
     "execution_count": 9,
     "metadata": {},
     "output_type": "execute_result"
    }
   ],
   "source": [
    "train_df.shape"
   ]
  },
  {
   "cell_type": "markdown",
   "metadata": {},
   "source": [
    "## Feature Design"
   ]
  },
  {
   "cell_type": "markdown",
   "metadata": {},
   "source": [
    "In this section, we will try several feature designs of the training dataset. In particular, we will focus on bag-of-words (BOW) representations, in which we represent the training set as a matrix where each row corresponds to each training instance, and each column represents each token, or vocabulary. Different versions of the BOW feature design depends on the different ways to select the tokens to include (as columns). Then, each row $i$ & column $j$ entry of the feature matrix is the number of times the token in column $j$ appears in the review text in row $i$. Moreover, since most of the entries of the feature matrix will be 0, to deal with memory error issues, we use scipy sparse matrices."
   ]
  },
  {
   "cell_type": "markdown",
   "metadata": {},
   "source": [
    "### Feature Design 1: Top 3000 Collection Term Frequency"
   ]
  },
  {
   "cell_type": "markdown",
   "metadata": {},
   "source": [
    "Again, what makes the feature design different is based on how we choose the tokens to include in our feature matrix. In this \"top 3000 collection term frequency\" design, we choose the top 3000 tokens, where the ranking is based on how many times the token appeared throughout the whole training set (that is: across all the 546165 review texts)."
   ]
  },
  {
   "cell_type": "code",
   "execution_count": 46,
   "metadata": {
    "collapsed": false
   },
   "outputs": [
    {
     "data": {
      "text/plain": [
       "['movie',\n",
       " 'film',\n",
       " 'one',\n",
       " 'like',\n",
       " 'good',\n",
       " 'great',\n",
       " 'would',\n",
       " 'story',\n",
       " 'really',\n",
       " 'time']"
      ]
     },
     "execution_count": 46,
     "metadata": {},
     "output_type": "execute_result"
    }
   ],
   "source": [
    "token_freq_dict = Counter([token for list_tokens in train_df['reviewText_processed'] for token in list_tokens])\n",
    "\n",
    "# list of top 3000 tokens based on collection term frequency\n",
    "top3000_CTF_tokens = [token_and_count[0] for token_and_count in token_freq_dict.most_common(3000)]\n",
    "# first ten\n",
    "top3000_CTF_tokens[0:10]"
   ]
  },
  {
   "cell_type": "code",
   "execution_count": 12,
   "metadata": {
    "collapsed": false
   },
   "outputs": [],
   "source": [
    "# Top 3000 CTF - Feature matrix\n",
    "#X_sparse_top3000_CTF = sparse.vstack([sparse.csr_matrix([np.sum(np.array(list_tokens)==token) for token in top3000_CTF_tokens]) \\\n",
    "#                                      for list_tokens in train_df['reviewText_processed']])\n",
    "\n",
    "# Save X_sparse_top3000_CTF as a file, so we can load it again later instead of doing preprocessing again\n",
    "#sparse.save_npz('X_sparse_top3000_CTF.npz', X_sparse_top3000_CTF)\n",
    "\n",
    "# Load it\n",
    "X_sparse_top3000_CTF = sparse.load_npz('X_sparse_top3000_CTF.npz')"
   ]
  },
  {
   "cell_type": "markdown",
   "metadata": {},
   "source": [
    "### Feature Design 2: Top 3000 Document Frequency"
   ]
  },
  {
   "cell_type": "markdown",
   "metadata": {},
   "source": [
    "This time, we choose the top 3000 tokens, where the ranking is based on the number of training instances such that the token appears at least once in the training instance's review text."
   ]
  },
  {
   "cell_type": "code",
   "execution_count": 47,
   "metadata": {
    "collapsed": false
   },
   "outputs": [
    {
     "data": {
      "text/plain": [
       "['movie',\n",
       " 'one',\n",
       " 'like',\n",
       " 'good',\n",
       " 'film',\n",
       " 'great',\n",
       " 'would',\n",
       " 'time',\n",
       " 'story',\n",
       " 'really']"
      ]
     },
     "execution_count": 47,
     "metadata": {},
     "output_type": "execute_result"
    }
   ],
   "source": [
    "unique_tokens = np.array(list(token_freq_dict.keys()))\n",
    "each_token_df_dict = {unique_token:0 for unique_token in unique_tokens}\n",
    "\n",
    "for list_tokens in train_df['reviewText_processed']:\n",
    "    for token in np.unique(list_tokens):\n",
    "        each_token_df_dict[token] += 1\n",
    "\n",
    "top3000_DF_tokens = sorted(each_token_df_dict, key=each_token_df_dict.get)[::-1][0:3000]\n",
    "# first ten\n",
    "top3000_DF_tokens[0:10]"
   ]
  },
  {
   "cell_type": "code",
   "execution_count": 14,
   "metadata": {
    "collapsed": false
   },
   "outputs": [],
   "source": [
    "#X_sparse_top3000_DF = sparse.vstack([sparse.csr_matrix([np.sum(np.array(list_tokens)==token) for token in top3000_DF_tokens]) \\\n",
    "#                                      for list_tokens in train_df['reviewText_processed']])\n",
    "\n",
    "# Save X_sparse_top3000_CTF as a file, so we can load it again later instead of doing preprocessing again\n",
    "#sparse.save_npz('X_sparse_top3000_DF.npz', X_sparse_top3000_DF)\n",
    "\n",
    "# Load it\n",
    "X_sparse_top3000_DF = sparse.load_npz('X_sparse_top3000_DF.npz')"
   ]
  },
  {
   "cell_type": "markdown",
   "metadata": {},
   "source": [
    "### Feature Design 3: TF-IDF"
   ]
  },
  {
   "cell_type": "markdown",
   "metadata": {},
   "source": [
    "Our last feature design is the tf-idf (term frequency–inverse document frequency) which combines term frequency (a local statistic that shows how many times a term appears in a document) and inverse document frequency (a global statistic that is inversely proportional to the number of times a term appears across the entire collection of documents). Some more information about the tf-idf weighing scheme can be found [here](http://www.tfidf.com/)."
   ]
  },
  {
   "cell_type": "code",
   "execution_count": 15,
   "metadata": {
    "collapsed": false
   },
   "outputs": [
    {
     "data": {
      "text/plain": [
       "TfidfVectorizer(analyzer='word', binary=False, decode_error='strict',\n",
       "        dtype=<class 'numpy.int64'>, encoding='utf-8', input='content',\n",
       "        lowercase=True, max_df=1.0, max_features=None, min_df=1,\n",
       "        ngram_range=(1, 1), norm='l2',\n",
       "        preprocessor=<function return_itself at 0x00000208BBBB9EA0>,\n",
       "        smooth_idf=True, stop_words=None, strip_accents=None,\n",
       "        sublinear_tf=False, token_pattern=None,\n",
       "        tokenizer=<function return_itself at 0x00000208BBBB9EA0>,\n",
       "        use_idf=True, vocabulary=None)"
      ]
     },
     "execution_count": 15,
     "metadata": {},
     "output_type": "execute_result"
    }
   ],
   "source": [
    "def return_itself(text):\n",
    "    return text\n",
    "\n",
    "# Since we already did the tokenization, for the tokenizer and the preprocessor\n",
    "# in our tfidf obejct, we use a function that simply returns the input text.\n",
    "tfidf_vectorize = TfidfVectorizer(analyzer='word', tokenizer=return_itself, preprocessor=return_itself, token_pattern=None)\n",
    "\n",
    "# Learn the vocabulary and idf values from the training dataset.\n",
    "tfidf_vectorize.fit(train_df['reviewText_processed'])"
   ]
  },
  {
   "cell_type": "code",
   "execution_count": 16,
   "metadata": {
    "collapsed": true
   },
   "outputs": [],
   "source": [
    "# Based on the learned vocabulary and idf values, compute the tf-idf feature matrix for the training set.\n",
    "#X_sparse_tfidf = tfidf_vectorize.transform(train_df['reviewText_processed'])\n",
    "\n",
    "# Save X_sparse_tfidf as a file, so we can load it again later instead of doing preprocessing again\n",
    "#sparse.save_npz('X_sparse_tfidf.npz', X_sparse_tfidf)\n",
    "\n",
    "# Load it\n",
    "X_sparse_tfidf = sparse.load_npz('X_sparse_tfidf.npz')"
   ]
  },
  {
   "cell_type": "markdown",
   "metadata": {},
   "source": [
    "### Feature Designs on Validation Set and Test Set"
   ]
  },
  {
   "cell_type": "markdown",
   "metadata": {},
   "source": [
    "For each of the five feature designs, let's create the corresponding feature matrix for the validation set."
   ]
  },
  {
   "cell_type": "code",
   "execution_count": 17,
   "metadata": {
    "collapsed": false
   },
   "outputs": [],
   "source": [
    "# Validation set - Feature design 1: Top 3000 CTF\n",
    "#X_sparse_valid_top3000_CTF = sparse.vstack([sparse.csr_matrix([np.sum(np.array(list_tokens)==token) for token in top3000_CTF_tokens]) \\\n",
    "#                                            for list_tokens in valid_df['reviewText_processed']])\n",
    "\n",
    "# Save X_sparse_valid_top3000_CTF as a file, so we can load it again later instead of doing preprocessing again\n",
    "#sparse.save_npz('X_sparse_valid_top3000_CTF.npz', X_sparse_valid_top3000_CTF)\n",
    "\n",
    "# Load it\n",
    "X_sparse_valid_top3000_CTF = sparse.load_npz('X_sparse_valid_top3000_CTF.npz')"
   ]
  },
  {
   "cell_type": "code",
   "execution_count": 18,
   "metadata": {
    "collapsed": false
   },
   "outputs": [],
   "source": [
    "# Validation set - Feature design 2: Top 3000 DF\n",
    "#X_sparse_valid_top3000_DF = sparse.vstack([sparse.csr_matrix([np.sum(np.array(list_tokens)==token) for token in top3000_DF_tokens]) \\\n",
    "#                                           for list_tokens in valid_df['reviewText_processed']])\n",
    "\n",
    "# Save X_sparse_valid_top3000_DF as a file, so we can load it again later instead of doing preprocessing again\n",
    "#sparse.save_npz('X_sparse_valid_top3000_DF.npz', X_sparse_valid_top3000_DF)\n",
    "\n",
    "# Load it\n",
    "X_sparse_valid_top3000_DF = sparse.load_npz('X_sparse_valid_top3000_DF.npz')"
   ]
  },
  {
   "cell_type": "code",
   "execution_count": 19,
   "metadata": {
    "collapsed": true
   },
   "outputs": [],
   "source": [
    "# Validation set - Feature design 3: tf-idf\n",
    "#X_sparse_valid_tfidf = tfidf_vectorize.transform(valid_df['reviewText_processed'])\n",
    "\n",
    "# Save X_sparse_valid_tfidf as a file, so we can load it again later instead of doing preprocessing again\n",
    "#sparse.save_npz('X_sparse_valid_tfidf.npz', X_sparse_valid_tfidf)\n",
    "\n",
    "# Load it\n",
    "X_sparse_valid_tfidf = sparse.load_npz('X_sparse_valid_tfidf.npz')"
   ]
  },
  {
   "cell_type": "markdown",
   "metadata": {},
   "source": [
    "Repeat on the test set."
   ]
  },
  {
   "cell_type": "code",
   "execution_count": 20,
   "metadata": {
    "collapsed": false
   },
   "outputs": [],
   "source": [
    "# Test set - Feature design 1: Top 3000 CTF\n",
    "#X_sparse_test_top3000_CTF = sparse.vstack([sparse.csr_matrix([np.sum(np.array(list_tokens)==token) for token in top3000_CTF_tokens]) \\\n",
    "#                                           for list_tokens in test_df['reviewText_processed']])\n",
    "\n",
    "# Save X_sparse_test_top3000_CTF as a file, so we can load it again later instead of doing preprocessing again\n",
    "#sparse.save_npz('X_sparse_test_top3000_CTF.npz', X_sparse_test_top3000_CTF)\n",
    "\n",
    "# Load it\n",
    "X_sparse_test_top3000_CTF = sparse.load_npz('X_sparse_test_top3000_CTF.npz')"
   ]
  },
  {
   "cell_type": "code",
   "execution_count": 21,
   "metadata": {
    "collapsed": false
   },
   "outputs": [],
   "source": [
    "# Test set - Feature design 2: Top 3000 DF\n",
    "#X_sparse_test_top3000_DF = sparse.vstack([sparse.csr_matrix([np.sum(np.array(list_tokens)==token) for token in top3000_DF_tokens]) \\\n",
    "#                                          for list_tokens in test_df['reviewText_processed']])\n",
    "\n",
    "# Save X_sparse_test_top3000_DF as a file, so we can load it again later instead of doing preprocessing again\n",
    "#sparse.save_npz('X_sparse_test_top3000_DF.npz', X_sparse_test_top3000_DF)\n",
    "\n",
    "# Load it\n",
    "X_sparse_test_top3000_DF = sparse.load_npz('X_sparse_test_top3000_DF.npz')"
   ]
  },
  {
   "cell_type": "code",
   "execution_count": 22,
   "metadata": {
    "collapsed": true
   },
   "outputs": [],
   "source": [
    "# Test set - Feature design 3: tf-idf\n",
    "#X_sparse_test_tfidf = tfidf_vectorize.transform(test_df['reviewText_processed'])\n",
    "\n",
    "# Save X_sparse_test_tfidf as a file, so we can load it again later instead of doing preprocessing again\n",
    "#sparse.save_npz('X_sparse_test_tfidf.npz', X_sparse_test_tfidf)\n",
    "\n",
    "# Load it\n",
    "X_sparse_test_tfidf = sparse.load_npz('X_sparse_test_tfidf.npz')"
   ]
  },
  {
   "cell_type": "markdown",
   "metadata": {},
   "source": [
    "## Model Selection"
   ]
  },
  {
   "cell_type": "markdown",
   "metadata": {},
   "source": [
    "Now that we have the feature matrices, we begin training the model on the data.\n",
    "\n",
    "We use the following models:\n",
    "- Multinomial Naive Bayes\n",
    "- Logistic Regression\n",
    "- Linear Support Vector Machine (SVM)\n",
    "\n",
    "We will decide the best model (out of total 9 models: combinations across three designs and three model types) based on the validation set, and then evaluate the final test accuracy (via the test dataset)."
   ]
  },
  {
   "cell_type": "markdown",
   "metadata": {},
   "source": [
    "For our error metric in model selection, we use the root mean squared error (RMSE), which is defined as:\n",
    "\n",
    "$\\sqrt{\\frac{1}{n} \\sum_{i=1}^{n} (true_{i} - pred_{i})^{2}}$ \n",
    "\n",
    "where:\n",
    "- $n$ denotes the number of datapoints (i.e. number of predictions)\n",
    "- $true_{i}$ denotes the true label of the $i^{th}$ datapoint; for $i \\in \\{ 1, \\cdots, n \\}$\n",
    "- $pred_{i}$ denotes the predicted label of the $i^{th}$ datapoint; for $i \\in \\{ 1, \\cdots, n \\}$\n",
    "\n",
    "Of course, we could instead use other common metrics such as prediction accuracy, mean absolute error (MAE), etc. But we choose RMSE because:\n",
    "\n",
    "- This task's labels are essentially numerical, so e.g. predicting a true label 3 as 2 is not as bad as predicting a true label 5 as 2. So accuracy might not be a good metric.\n",
    "- With the similiar reason, since we want to penalize larger errors (i.e. difference between the true rating score and the predicted rating score) more, RMSE could be better than MAE."
   ]
  },
  {
   "cell_type": "code",
   "execution_count": 23,
   "metadata": {
    "collapsed": true
   },
   "outputs": [],
   "source": [
    "# Function that computes the RMSE, given the true labels and the predicted labels\n",
    "def rmse(trueY, predictedY):\n",
    "    return math.sqrt(mean_squared_error(trueY, predictedY))"
   ]
  },
  {
   "cell_type": "markdown",
   "metadata": {},
   "source": [
    "### Model 1: Multinomial Naive Bayes"
   ]
  },
  {
   "cell_type": "markdown",
   "metadata": {},
   "source": [
    "First we consider a Multinomial Naive Bayes classifier, where we assume:\n",
    "\n",
    "- Each feature (here, each token) is conditionally independent given the label (just like any Naive Bayes)\n",
    "- Each feature has a Multinomial distribution, where the event probabilities are defined for each label. That is: For each label $c$, there is a set of probabilities that sum to 1 ($p_{1}^{(c)}, p_{2}^{(c)}, \\cdots, p_{m}^{(c)}$ where $m$ denotes the number of features). This is why we call it the \"Multinomial\" Naive Bayes.\n",
    "\n",
    "We need to choose the value of 'alpha', which is a hyperparameter representing the strength of the additive smoothing, which is a method of reducing the influence of rare words throughout the documents. The options are from 0 to 1 (So 'alpha'=0 means no smothing at all), and we decide the best value via the performance on the validation data."
   ]
  },
  {
   "cell_type": "markdown",
   "metadata": {},
   "source": [
    "#### Feature Design 1: Top 3000 Collection Term Frequency"
   ]
  },
  {
   "cell_type": "code",
   "execution_count": 24,
   "metadata": {
    "collapsed": false
   },
   "outputs": [
    {
     "name": "stdout",
     "output_type": "stream",
     "text": [
      "alpha= 0.2  RMSE= 1.2180286572283823\n",
      "alpha= 0.5  RMSE= 1.2180431664362785\n",
      "alpha= 0.8  RMSE= 1.217962154480632\n",
      "alpha= 1  RMSE= 1.2178944388610145\n"
     ]
    }
   ],
   "source": [
    "alphas = [0.2, 0.5, 0.8, 1]\n",
    "\n",
    "for alpha in alphas:\n",
    "    # train the model with this alpha\n",
    "    nb_clf1 = MultinomialNB(alpha=alpha).fit(X_sparse_top3000_CTF, train_df['overall'])\n",
    "    # predict on validation set\n",
    "    preds = nb_clf1.predict(X_sparse_valid_top3000_CTF)\n",
    "    # compute RMSE\n",
    "    print(\"alpha=\", alpha, \" RMSE=\", rmse(trueY=valid_df['overall'], predictedY=preds))"
   ]
  },
  {
   "cell_type": "markdown",
   "metadata": {},
   "source": [
    "#### Feature Design 2: Top 3000 Document Frequency"
   ]
  },
  {
   "cell_type": "code",
   "execution_count": 25,
   "metadata": {
    "collapsed": false,
    "scrolled": true
   },
   "outputs": [
    {
     "name": "stdout",
     "output_type": "stream",
     "text": [
      "alpha= 0.2  RMSE= 1.2045914783114997\n",
      "alpha= 0.5  RMSE= 1.2045230110222744\n",
      "alpha= 0.8  RMSE= 1.2045609130382573\n",
      "alpha= 1  RMSE= 1.204483885109605\n"
     ]
    }
   ],
   "source": [
    "for alpha in alphas:\n",
    "    # train the model with this alpha\n",
    "    nb_clf2 = MultinomialNB(alpha=alpha).fit(X_sparse_top3000_DF, train_df['overall'])\n",
    "    # predict on validation set\n",
    "    preds = nb_clf2.predict(X_sparse_valid_top3000_DF)\n",
    "    # compute RMSE\n",
    "    print(\"alpha=\", alpha, \" RMSE=\", rmse(trueY=valid_df['overall'], predictedY=preds))"
   ]
  },
  {
   "cell_type": "markdown",
   "metadata": {},
   "source": [
    "#### Feature Design 3: TF-IDF"
   ]
  },
  {
   "cell_type": "code",
   "execution_count": 26,
   "metadata": {
    "collapsed": false
   },
   "outputs": [
    {
     "name": "stdout",
     "output_type": "stream",
     "text": [
      "alpha= 0.2  RMSE= 1.0452000468671305\n",
      "alpha= 0.5  RMSE= 1.0803356774590935\n",
      "alpha= 0.8  RMSE= 1.1032842877898215\n",
      "alpha= 1  RMSE= 1.1139807142665923\n"
     ]
    }
   ],
   "source": [
    "for alpha in alphas:\n",
    "    # train the model with this alpha\n",
    "    nb_clf3 = MultinomialNB(alpha=alpha).fit(X_sparse_tfidf, train_df['overall'])\n",
    "    # predict on validation set\n",
    "    preds = nb_clf3.predict(X_sparse_valid_tfidf)\n",
    "    # compute RMSE\n",
    "    print(\"alpha=\", alpha, \" RMSE=\", rmse(trueY=valid_df['overall'], predictedY=preds))"
   ]
  },
  {
   "cell_type": "markdown",
   "metadata": {},
   "source": [
    "### Model 2: Logistic Regression (L2-regularized)"
   ]
  },
  {
   "cell_type": "markdown",
   "metadata": {},
   "source": [
    "Next, we consider the logistic regression model. Note that we're dealing with classification with more than two labels, so binary logistic regression cannot be directly used. There are several ways to deal with multiclass classification via logistic regression, and we use the 'one vs rest' (aka 'one vs all') approach. \n",
    "\n",
    "Recall the binary logistic regression model: There are two possible labels $0$ and $1$, and the model says that the probability that a datapoint with features $x = [x_{1}, x_{2}, \\cdots, x_{m}]$ has label $1$ is: $P(Y=1 | X=x) = \\frac{\\text{exp} \\{ \\beta_{0} + \\beta_{1} x_{1} + \\cdots + \\beta_{m} x_{m} \\}}{1 + \\text{exp} \\{ \\beta_{0} + \\beta_{1} x_{1} + \\cdots + \\beta_{m} x_{m} \\} }$, and the probability that it has label $0$ is:  $P(Y=0 | X=x) = 1 - P(Y=1 | X=x)$.\n",
    "\n",
    "Let $q$ denote the number of possible labels (so $q>2$). In the 'one vs rest' approach, we build one binary logistic regression model for each of the $q$ labels. For each $j \\in \\{1, \\cdots, q\\}$, the $j^{th}$ binary logistic regression model treats the label value $j$ as 'success' (i.e. Y=1), and all the other labels (i.e. all values in $\\{ 1, \\cdots, j-1, j+1, \\cdots, q$) as 'failure' (i.e. Y=0). We train each of the $q$-many binary logistic regression models (so total $q$-many sets of parameters are fitted). Then, when making prediction for an arbitrary datapoint, we do:\n",
    "\n",
    "- For each $j \\in \\{ 1, \\cdots, q \\}$, we compute the fitted probability of that datapoint having label $j$ via the $j^{th}$ binary logistic regression formula.\n",
    "- Then, our prediction is the label $j$ that has the highest fitted probability.\n",
    "\n",
    "Moreover, to prevent overfitting, we will apply L2-regularization. There is a hyperparameter 'C' which is the inverse of the strength of regularization (so smaller value means stronger regularization). As before, we will assess validation performance to choose our 'C'."
   ]
  },
  {
   "cell_type": "markdown",
   "metadata": {},
   "source": [
    "#### Feature Design 1: Top 3000 Collection Term Frequency"
   ]
  },
  {
   "cell_type": "code",
   "execution_count": 27,
   "metadata": {
    "collapsed": false
   },
   "outputs": [
    {
     "name": "stdout",
     "output_type": "stream",
     "text": [
      "C= 0.25  RMSE= 1.0305175904727957\n",
      "C= 0.5  RMSE= 1.0305604630273788\n",
      "C= 1.0  RMSE= 1.0307233624713912\n",
      "C= 1.25  RMSE= 1.030763368923047\n"
     ]
    }
   ],
   "source": [
    "Cs = [0.25, 0.5, 1.0, 1.25]\n",
    "\n",
    "for C in Cs:\n",
    "    # train the model with this C\n",
    "    lr_clf1 = LogisticRegression(penalty='l2', C=C).fit(X_sparse_top3000_CTF, train_df['overall'])\n",
    "    # predict on validation set\n",
    "    preds = lr_clf1.predict(X_sparse_valid_top3000_CTF)\n",
    "    # compute RMSE\n",
    "    print(\"C=\", C, \" RMSE=\", rmse(trueY=valid_df['overall'], predictedY=preds))"
   ]
  },
  {
   "cell_type": "markdown",
   "metadata": {},
   "source": [
    "#### Feature Design 2: Top 3000 Document Frequency"
   ]
  },
  {
   "cell_type": "code",
   "execution_count": 28,
   "metadata": {
    "collapsed": false
   },
   "outputs": [
    {
     "name": "stdout",
     "output_type": "stream",
     "text": [
      "C= 0.25  RMSE= 1.0229857841542933\n",
      "C= 0.5  RMSE= 1.0232276145595993\n",
      "C= 1.0  RMSE= 1.0233269212057456\n",
      "C= 1.25  RMSE= 1.0233226037258707\n"
     ]
    }
   ],
   "source": [
    "for C in Cs:\n",
    "    # train the model with this C\n",
    "    lr_clf2 = LogisticRegression(penalty='l2', C=C).fit(X_sparse_top3000_DF, train_df['overall'])\n",
    "    # predict on validation set\n",
    "    preds = lr_clf2.predict(X_sparse_valid_top3000_DF)\n",
    "    # compute RMSE\n",
    "    print(\"C=\", C, \" RMSE=\", rmse(trueY=valid_df['overall'], predictedY=preds))"
   ]
  },
  {
   "cell_type": "markdown",
   "metadata": {},
   "source": [
    "#### Feature Design 3: TF-IDF"
   ]
  },
  {
   "cell_type": "code",
   "execution_count": 29,
   "metadata": {
    "collapsed": false
   },
   "outputs": [
    {
     "name": "stdout",
     "output_type": "stream",
     "text": [
      "C= 0.25  RMSE= 0.9508953610117883\n",
      "C= 0.5  RMSE= 0.9478626593688789\n",
      "C= 1.0  RMSE= 0.9490117272716462\n",
      "C= 1.25  RMSE= 0.9501423556267181\n"
     ]
    }
   ],
   "source": [
    "for C in Cs:\n",
    "    # train the model with this C\n",
    "    lr_clf3 = LogisticRegression(penalty='l2', C=C).fit(X_sparse_tfidf, train_df['overall'])\n",
    "    # predict on validation set\n",
    "    preds = lr_clf3.predict(X_sparse_valid_tfidf)\n",
    "    # compute RMSE\n",
    "    print(\"C=\", C, \" RMSE=\", rmse(trueY=valid_df['overall'], predictedY=preds))"
   ]
  },
  {
   "cell_type": "markdown",
   "metadata": {},
   "source": [
    "### Model 3: Linear SVM (L2-regularized)"
   ]
  },
  {
   "cell_type": "markdown",
   "metadata": {},
   "source": [
    "Lastly, we consider the linear SVM model. Note that we can use nonlinear SVM via kernels, but we won't do so here. Again, we're dealing with a multiclass classification task, so binary SVM can't be directly used. As in logistic regression, we use the 'one vs rest' approach, where each label has its own binary linear SVM classifier that treats itself as one class and all other labels as the other class.\n",
    "\n",
    "Recall the binary linear SVM model: It has two labels, and its goal is to learn the hyperplane (dimension depends on number of features) that has the maximum margin. This is done by minimizing the hinge loss. Here, we have a hyperparameter 'C' which represents the penalty to the error terms (i.e. how severely will we penalize misclassification of training data). So smaller value of this hyperparameter can prevent overfitting."
   ]
  },
  {
   "cell_type": "markdown",
   "metadata": {},
   "source": [
    "#### Feature Design 1: Top 3000 Collection Term Frequency"
   ]
  },
  {
   "cell_type": "code",
   "execution_count": 30,
   "metadata": {
    "collapsed": false
   },
   "outputs": [
    {
     "name": "stdout",
     "output_type": "stream",
     "text": [
      "C= 0.25  RMSE= 1.1884688051807504\n",
      "C= 0.5  RMSE= 1.150737811363019\n",
      "C= 1  RMSE= 1.1772483387164265\n",
      "C= 1.25  RMSE= 1.1300935581472134\n"
     ]
    }
   ],
   "source": [
    "Cs = [0.25, 0.5, 1, 1.25]\n",
    "\n",
    "for C in Cs:\n",
    "    # train the model with this C\n",
    "    svm_clf1 = LinearSVC(penalty='l2', loss='hinge', C=C).fit(X_sparse_top3000_CTF, train_df['overall'])\n",
    "    # predict on validation set\n",
    "    preds = svm_clf1.predict(X_sparse_valid_top3000_CTF)\n",
    "    # compute RMSE\n",
    "    print(\"C=\", C, \" RMSE=\", rmse(trueY=valid_df['overall'], predictedY=preds))"
   ]
  },
  {
   "cell_type": "markdown",
   "metadata": {},
   "source": [
    "#### Feature Design 2: Top 3000 Document Frequency"
   ]
  },
  {
   "cell_type": "code",
   "execution_count": 31,
   "metadata": {
    "collapsed": false
   },
   "outputs": [
    {
     "name": "stdout",
     "output_type": "stream",
     "text": [
      "C= 0.25  RMSE= 1.1503960508175202\n",
      "C= 0.5  RMSE= 1.1438922123228141\n",
      "C= 1  RMSE= 1.1594167627728131\n",
      "C= 1.25  RMSE= 1.1418136331346997\n"
     ]
    }
   ],
   "source": [
    "for C in Cs:\n",
    "    # train the model with this C\n",
    "    svm_clf2 = LinearSVC(penalty='l2', loss='hinge', C=C).fit(X_sparse_top3000_DF, train_df['overall'])\n",
    "    # predict on validation set\n",
    "    preds = svm_clf2.predict(X_sparse_valid_top3000_DF)\n",
    "    # compute RMSE\n",
    "    print(\"C=\", C, \" RMSE=\", rmse(trueY=valid_df['overall'], predictedY=preds))"
   ]
  },
  {
   "cell_type": "markdown",
   "metadata": {},
   "source": [
    "#### Feature Design 3: TF-IDF"
   ]
  },
  {
   "cell_type": "code",
   "execution_count": 32,
   "metadata": {
    "collapsed": false
   },
   "outputs": [
    {
     "name": "stdout",
     "output_type": "stream",
     "text": [
      "C= 0.25  RMSE= 1.0267851286246052\n",
      "C= 0.5  RMSE= 1.0203261969482234\n",
      "C= 1  RMSE= 1.0161621820484101\n",
      "C= 1.25  RMSE= 1.0162549332781925\n"
     ]
    }
   ],
   "source": [
    "for C in Cs:\n",
    "    # train the model with this C\n",
    "    svm_clf3 = LinearSVC(penalty='l2', loss='hinge', C=C).fit(X_sparse_tfidf, train_df['overall'])\n",
    "    # predict on validation set\n",
    "    preds = svm_clf3.predict(X_sparse_valid_tfidf)\n",
    "    # compute RMSE\n",
    "    print(\"C=\", C, \" RMSE=\", rmse(trueY=valid_df['overall'], predictedY=preds))"
   ]
  },
  {
   "cell_type": "markdown",
   "metadata": {},
   "source": [
    "Here are the results.\n",
    "\n",
    "For feature design 1 (Top 3000 Collection Term Frequency):\n",
    "- The Naive Bayes model's best 'alpha' is 1 (with RMSE 1.218)\n",
    "- The logistic regression model's best 'C' is 0.25 (with RMSE 1.031)\n",
    "- The SVM model's best 'C' is 1.25 (with RMSE 1.13)\n",
    "\n",
    "For feature design 2 (Top 3000 Document Frequency):\n",
    "- The Naive Bayes model's best 'alpha' is 1 (with RMSE 1.204)\n",
    "- The logistic regression model's best 'C' is 0.25 (with RMSE 1.023)\n",
    "- The SVM model's best 'C' is 1.25 (with RMSE 1.142)\n",
    "\n",
    "For feature design 3 (TF-IDF):\n",
    "- The Naive Bayes model's best 'alpha' is 0.2 (with RMSE 1.045)\n",
    "- The logistic regression model's best 'C' is 0.5 (with RMSE 0.948)\n",
    "- The SVM model's best 'C' is 1.25 (with RMSE 1.016)\n",
    "\n",
    "Overall, we can see that the TF-IDF feature design yields lower RMSE (which is better) compared to the other feature designs, and in regards to models, it seems the logistic regression model tends to yield lower RMSE compared to others. We choose the logistic regression model with 'C' = 0.5 with the TF-IDF feature design as our final model.\n",
    "\n",
    "But note that we do not know about the uncertainty of those RMSE values, and we can use the bootstrap to estimate the uncertainty, which will let us determine whether those differences in RMSE values are meaningful (that is: not negligably small)."
   ]
  },
  {
   "cell_type": "markdown",
   "metadata": {},
   "source": [
    "## Final Model Test Set Performance"
   ]
  },
  {
   "cell_type": "markdown",
   "metadata": {},
   "source": [
    "Now we will fit the logistic regression model with 'C' = 0.5 with the TF-IDF design. Note that here, we will use both the training set and the validation set (combined into one dataset) to train the final model, and then assess the performance on test dataset prediction.\n",
    "\n",
    "Also, for the performance metric, we will use MAE which gives us the exact 'distance' of the error."
   ]
  },
  {
   "cell_type": "code",
   "execution_count": 33,
   "metadata": {
    "collapsed": false
   },
   "outputs": [],
   "source": [
    "# Combine training set and validation set\n",
    "X_sparse_combined_tfidf = sparse.vstack((X_sparse_tfidf, X_sparse_valid_tfidf))\n",
    "\n",
    "# Corresponding labels\n",
    "true_labels_combined = train_df['overall'].append(valid_df['overall'])"
   ]
  },
  {
   "cell_type": "code",
   "execution_count": 34,
   "metadata": {
    "collapsed": false
   },
   "outputs": [
    {
     "name": "stdout",
     "output_type": "stream",
     "text": [
      "MAE= 0.502718639914\n"
     ]
    }
   ],
   "source": [
    "# train the model with this C=0.5\n",
    "lr_clf_final = LogisticRegression(penalty='l2', C=0.5).fit(X_sparse_combined_tfidf, true_labels_combined)\n",
    "# predict on test set\n",
    "preds = lr_clf_final.predict(X_sparse_test_tfidf)\n",
    "# compute MAE\n",
    "print(\"MAE=\", mean_absolute_error(test_df['overall'], preds))"
   ]
  },
  {
   "cell_type": "markdown",
   "metadata": {},
   "source": [
    "Our final model yields MAE of 0.503, which means that on average, the difference between the true rating and the predicted rating is near 0.5. Considering the fact that the ratings are integers from 1 to 5, this final test MAE is pretty good."
   ]
  },
  {
   "cell_type": "markdown",
   "metadata": {},
   "source": [
    "Lastly, let's examine two extreme examples (one very positive review and one very negative review) on how our final predicts the rating."
   ]
  },
  {
   "cell_type": "code",
   "execution_count": 43,
   "metadata": {
    "collapsed": false
   },
   "outputs": [
    {
     "data": {
      "text/plain": [
       "array([5, 1], dtype=int64)"
      ]
     },
     "execution_count": 43,
     "metadata": {},
     "output_type": "execute_result"
    }
   ],
   "source": [
    "# positive\n",
    "sentence1 = \"This is very good. I love it, and I will watch it again.\"\n",
    "# negative\n",
    "sentence2 = \"Horrible film. You won't like it. It is extremely bad.\"\n",
    "\n",
    "extremes = pd.DataFrame({'reviewText':[sentence1, sentence2]})\n",
    "extremes['reviewText_processed'] = [remove_stopwords(tokens_to_lowercase(remove_tokens_with_num(nltk.word_tokenize(remove_punc_in_str(review)))), \\\n",
    "                                                          stopwords=stop_words) \\\n",
    "                                         for review in extremes['reviewText']]\n",
    "extremes.drop(['reviewText'], axis=1, inplace=True)\n",
    "\n",
    "tfidf_extremes = tfidf_vectorize.transform(extremes['reviewText_processed'])\n",
    "\n",
    "# predict\n",
    "lr_clf_final.predict(tfidf_extremes)"
   ]
  },
  {
   "cell_type": "markdown",
   "metadata": {},
   "source": [
    "Our final model predicts the positive sentence as rating 5 and the negative sentence as rating 1, as desired."
   ]
  }
 ],
 "metadata": {
  "anaconda-cloud": {},
  "kernelspec": {
   "display_name": "Python [conda root]",
   "language": "python",
   "name": "conda-root-py"
  },
  "language_info": {
   "codemirror_mode": {
    "name": "ipython",
    "version": 3
   },
   "file_extension": ".py",
   "mimetype": "text/x-python",
   "name": "python",
   "nbconvert_exporter": "python",
   "pygments_lexer": "ipython3",
   "version": "3.5.2"
  }
 },
 "nbformat": 4,
 "nbformat_minor": 1
}
